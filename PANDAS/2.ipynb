{
 "cells": [
  {
   "cell_type": "markdown",
   "id": "90a6d4c5",
   "metadata": {},
   "source": [
    "# DATAFRAME IN PANDAS"
   ]
  },
  {
   "cell_type": "code",
   "execution_count": 3,
   "id": "c9a3babe",
   "metadata": {},
   "outputs": [],
   "source": [
    "import pandas as pd"
   ]
  },
  {
   "cell_type": "code",
   "execution_count": 5,
   "id": "eb044cce",
   "metadata": {},
   "outputs": [
    {
     "name": "stdout",
     "output_type": "stream",
     "text": [
      "    0\n",
      "0  10\n",
      "1  20\n",
      "2  30\n",
      "3  40\n",
      "4  50\n"
     ]
    }
   ],
   "source": [
    "list1=[10,20,30,40,50]\n",
    "\n",
    "task1=pd.DataFrame(list1)\n",
    "print(task1)"
   ]
  },
  {
   "cell_type": "code",
   "execution_count": 6,
   "id": "cb10813b",
   "metadata": {},
   "outputs": [
    {
     "name": "stdout",
     "output_type": "stream",
     "text": [
      "    1   2   3\n",
      "0  10  40  70\n",
      "1  20  50  80\n",
      "2  30  60  90\n"
     ]
    }
   ],
   "source": [
    "#DATAFRAME USING DICTIONARY-\n",
    "\n",
    "dict={\n",
    "    1:[10,20,30],\n",
    "    2:[40,50,60],\n",
    "    3:[70,80,90]\n",
    "}\n",
    "\n",
    "task2=pd.DataFrame(dict)\n",
    "print(task2)"
   ]
  },
  {
   "cell_type": "code",
   "execution_count": 10,
   "id": "45e85c14",
   "metadata": {},
   "outputs": [
    {
     "name": "stdout",
     "output_type": "stream",
     "text": [
      "    1\n",
      "0  10\n",
      "1  20\n",
      "2  30\n"
     ]
    }
   ],
   "source": [
    "#ACCESSING PARTICULAR COLUMN FROM DICTIONARY DATAFRAME\n",
    "\n",
    "dict1={\n",
    "    1:[10,20,30],\n",
    "    2:[1,2,3],\n",
    "    3:[10,11,12]\n",
    "}\n",
    "\n",
    "task3=pd.DataFrame(dict1,columns=[1])\n",
    "print(task3)"
   ]
  },
  {
   "cell_type": "code",
   "execution_count": 18,
   "id": "d82d49a7",
   "metadata": {},
   "outputs": [
    {
     "name": "stdout",
     "output_type": "stream",
     "text": [
      "    1  2   3\n",
      "0  10  1  10\n",
      "1  20  2  11\n",
      "2  30  3  12\n"
     ]
    }
   ],
   "source": [
    "#ACCESSING MULTIPLE COLUMN FROM DICTIONARY DATAFRAME\n",
    "\n",
    "dict2={\n",
    "    1:[10,20,30],\n",
    "    2:[1,2,3],\n",
    "    3:[10,11,12]\n",
    "}\n",
    "\n",
    "task4=pd.DataFrame(dict2,columns=[1,2,3])\n",
    "print(task4)"
   ]
  },
  {
   "cell_type": "code",
   "execution_count": 31,
   "id": "7fbbe234",
   "metadata": {},
   "outputs": [
    {
     "name": "stdout",
     "output_type": "stream",
     "text": [
      "30\n"
     ]
    }
   ],
   "source": [
    "#ACCESSING DATA FRAME USING INDEXING-\n",
    "mytuple=(10,20,30,40)\n",
    "\n",
    "\n",
    "task5=mytuple[2]\n",
    "print(task51)"
   ]
  },
  {
   "cell_type": "code",
   "execution_count": 22,
   "id": "35893805",
   "metadata": {},
   "outputs": [
    {
     "name": "stdout",
     "output_type": "stream",
     "text": [
      "   0  1  2\n",
      "0  1  2  3\n",
      "1  4  5  6\n"
     ]
    }
   ],
   "source": [
    "#DATA FRAME USING NESTED LIST-\n",
    "\n",
    "nes_list=[[1,2,3],[4,5,6]]\n",
    "\n",
    "task6=pd.DataFrame(nes_list)\n",
    "print(task6)"
   ]
  },
  {
   "cell_type": "code",
   "execution_count": 24,
   "id": "3c759286",
   "metadata": {},
   "outputs": [
    {
     "name": "stdout",
     "output_type": "stream",
     "text": [
      "   a   b\n",
      "0  1   6\n",
      "1  2   7\n",
      "2  3   8\n",
      "3  4   9\n",
      "4  5  10\n"
     ]
    }
   ],
   "source": [
    "#DATA FRAME USING SERIES-\n",
    "\n",
    "myseries={\n",
    "    \"a\":pd.Series([1,2,3,4,5]),\n",
    "    \"b\":pd.Series([6,7,8,9,10])\n",
    "}\n",
    "\n",
    "task7=pd.DataFrame(myseries)\n",
    "print(task7)"
   ]
  }
 ],
 "metadata": {
  "kernelspec": {
   "display_name": "Python 3 (ipykernel)",
   "language": "python",
   "name": "python3"
  },
  "language_info": {
   "codemirror_mode": {
    "name": "ipython",
    "version": 3
   },
   "file_extension": ".py",
   "mimetype": "text/x-python",
   "name": "python",
   "nbconvert_exporter": "python",
   "pygments_lexer": "ipython3",
   "version": "3.10.9"
  }
 },
 "nbformat": 4,
 "nbformat_minor": 5
}
