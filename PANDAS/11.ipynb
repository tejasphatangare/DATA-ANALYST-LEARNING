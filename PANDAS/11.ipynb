{
 "cells": [
  {
   "cell_type": "code",
   "execution_count": 1,
   "id": "dbb5042d",
   "metadata": {},
   "outputs": [],
   "source": [
    "import pandas as pd"
   ]
  },
  {
   "cell_type": "code",
   "execution_count": null,
   "id": "4a3634d7",
   "metadata": {},
   "outputs": [],
   "source": [
    "#Merge-it is used for join the 2 dataset in pandas."
   ]
  },
  {
   "cell_type": "code",
   "execution_count": 11,
   "id": "776defba",
   "metadata": {},
   "outputs": [
    {
     "name": "stdout",
     "output_type": "stream",
     "text": [
      "    A  B   C\n",
      "0  10  1  11\n",
      "1  20  2  12\n",
      "2  30  3  13\n",
      "3  40  4  14\n"
     ]
    }
   ],
   "source": [
    "var1=pd.DataFrame({\"A\":[10,20,30,40],\"B\":[1,2,3,4]})\n",
    "var2=pd.DataFrame({\"A\":[10,20,30,40],\"C\":[11,12,13,14]})\n",
    "\n",
    "res=pd.merge(var1,var2,on='A')\n",
    "print(res)"
   ]
  },
  {
   "cell_type": "code",
   "execution_count": null,
   "id": "c9648437",
   "metadata": {},
   "outputs": [],
   "source": [
    "#IF THE ID IS NOT SAME THEN IT SHOWS THE RESULT lIKE THIS-"
   ]
  },
  {
   "cell_type": "code",
   "execution_count": 15,
   "id": "3a547574",
   "metadata": {},
   "outputs": [
    {
     "name": "stdout",
     "output_type": "stream",
     "text": [
      "    A  B   C\n",
      "0  10  1  11\n",
      "1  20  2  12\n",
      "2  30  3  13\n"
     ]
    }
   ],
   "source": [
    "var3=pd.DataFrame({\"A\":[10,20,30,40],\"B\":[1,2,3,4]})\n",
    "var4=pd.DataFrame({\"A\":[10,20,30,50],\"C\":[11,12,13,14]})\n",
    "\n",
    "res=pd.merge(var3,var4,on='A')\n",
    "print(res)"
   ]
  },
  {
   "cell_type": "code",
   "execution_count": null,
   "id": "14f07292",
   "metadata": {},
   "outputs": [],
   "source": [
    "#HOW PARAMETER FOR SHOWS THE MISSING DATA IF ID IS DIFFERENT-"
   ]
  },
  {
   "cell_type": "code",
   "execution_count": 16,
   "id": "85400d5b",
   "metadata": {},
   "outputs": [
    {
     "name": "stdout",
     "output_type": "stream",
     "text": [
      "    A  B     C\n",
      "0  10  1  11.0\n",
      "1  20  2  12.0\n",
      "2  30  3  13.0\n",
      "3  40  4   NaN\n"
     ]
    }
   ],
   "source": [
    "var5=pd.DataFrame({\"A\":[10,20,30,40],\"B\":[1,2,3,4]})\n",
    "var6=pd.DataFrame({\"A\":[10,20,30,50],\"C\":[11,12,13,14]})\n",
    "\n",
    "res=pd.merge(var5,var6,how='left')\n",
    "print(res)"
   ]
  },
  {
   "cell_type": "code",
   "execution_count": 17,
   "id": "ae9dec57",
   "metadata": {},
   "outputs": [
    {
     "name": "stdout",
     "output_type": "stream",
     "text": [
      "    A    B   C\n",
      "0  10  1.0  11\n",
      "1  20  2.0  12\n",
      "2  30  3.0  13\n",
      "3  50  NaN  14\n"
     ]
    }
   ],
   "source": [
    "var5=pd.DataFrame({\"A\":[10,20,30,40],\"B\":[1,2,3,4]})\n",
    "var6=pd.DataFrame({\"A\":[10,20,30,50],\"C\":[11,12,13,14]})\n",
    "\n",
    "res=pd.merge(var5,var6,how='right')\n",
    "print(res)"
   ]
  },
  {
   "cell_type": "code",
   "execution_count": 18,
   "id": "1d2f45f6",
   "metadata": {},
   "outputs": [
    {
     "name": "stdout",
     "output_type": "stream",
     "text": [
      "    A    B     C\n",
      "0  10  1.0  11.0\n",
      "1  20  2.0  12.0\n",
      "2  30  3.0  13.0\n",
      "3  40  4.0   NaN\n",
      "4  50  NaN  14.0\n"
     ]
    }
   ],
   "source": [
    "var5=pd.DataFrame({\"A\":[10,20,30,40],\"B\":[1,2,3,4]})\n",
    "var6=pd.DataFrame({\"A\":[10,20,30,50],\"C\":[11,12,13,14]})\n",
    "\n",
    "res=pd.merge(var5,var6,how='outer')\n",
    "print(res)"
   ]
  },
  {
   "cell_type": "markdown",
   "id": "1ec21344",
   "metadata": {},
   "source": [
    "# CONCAT"
   ]
  },
  {
   "cell_type": "code",
   "execution_count": null,
   "id": "29e76f90",
   "metadata": {},
   "outputs": [],
   "source": [
    "#CONACTING THE SERIES-"
   ]
  },
  {
   "cell_type": "code",
   "execution_count": 22,
   "id": "dcbd1afe",
   "metadata": {},
   "outputs": [
    {
     "name": "stdout",
     "output_type": "stream",
     "text": [
      "0    10\n",
      "1    20\n",
      "2    30\n",
      "3    40\n",
      "0    50\n",
      "1    60\n",
      "2    70\n",
      "3    80\n",
      "dtype: int64\n"
     ]
    }
   ],
   "source": [
    "sr1=pd.Series([10,20,30,40])\n",
    "sr2=pd.Series([50,60,70,80])\n",
    "\n",
    "res1=pd.concat([sr1,sr2])\n",
    "print(res1)"
   ]
  },
  {
   "cell_type": "code",
   "execution_count": null,
   "id": "34a1c8bc",
   "metadata": {},
   "outputs": [],
   "source": [
    "#CONCATING THE DATAFRAME-"
   ]
  },
  {
   "cell_type": "code",
   "execution_count": 26,
   "id": "4d26bab8",
   "metadata": {},
   "outputs": [
    {
     "name": "stdout",
     "output_type": "stream",
     "text": [
      "    a   b\n",
      "0  51  61\n",
      "1  51  62\n",
      "2  53  63\n",
      "0  51  71\n",
      "1  52  72\n",
      "2  53  73\n"
     ]
    }
   ],
   "source": [
    "d1=pd.DataFrame({'a':[51,51,53],'b':[61,62,63]})\n",
    "d2=pd.DataFrame({'a':[51,52,53],'b':[71,72,73]})\n",
    "\n",
    "res2=pd.concat([d1,d2])\n",
    "print(res2)"
   ]
  },
  {
   "cell_type": "code",
   "execution_count": 27,
   "id": "d1a13138",
   "metadata": {},
   "outputs": [
    {
     "name": "stdout",
     "output_type": "stream",
     "text": [
      "    a     b     c\n",
      "0  51  61.0   NaN\n",
      "1  51  62.0   NaN\n",
      "2  53  63.0   NaN\n",
      "0  51   NaN  71.0\n",
      "1  52   NaN  72.0\n",
      "2  53   NaN  73.0\n"
     ]
    }
   ],
   "source": [
    "d1=pd.DataFrame({'a':[51,51,53],'b':[61,62,63]})\n",
    "d2=pd.DataFrame({'a':[51,52,53],'c':[71,72,73]})\n",
    "\n",
    "res2=pd.concat([d1,d2])\n",
    "print(res2)"
   ]
  }
 ],
 "metadata": {
  "kernelspec": {
   "display_name": "Python 3 (ipykernel)",
   "language": "python",
   "name": "python3"
  },
  "language_info": {
   "codemirror_mode": {
    "name": "ipython",
    "version": 3
   },
   "file_extension": ".py",
   "mimetype": "text/x-python",
   "name": "python",
   "nbconvert_exporter": "python",
   "pygments_lexer": "ipython3",
   "version": "3.10.9"
  }
 },
 "nbformat": 4,
 "nbformat_minor": 5
}
