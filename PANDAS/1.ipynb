{
 "cells": [
  {
   "cell_type": "markdown",
   "id": "dad0d886",
   "metadata": {},
   "source": [
    "# SERIES IN PANDAS"
   ]
  },
  {
   "cell_type": "code",
   "execution_count": null,
   "id": "f67f2d44",
   "metadata": {},
   "outputs": [],
   "source": [
    "-IT IS USED FOR CREATE A ONE-DIMNENSIONAL ARRAY IN PYTHON USING LIST TUPLE DICTIONAY"
   ]
  },
  {
   "cell_type": "code",
   "execution_count": 11,
   "id": "67218ba2",
   "metadata": {},
   "outputs": [
    {
     "name": "stdout",
     "output_type": "stream",
     "text": [
      "0    10\n",
      "1    20\n",
      "2    30\n",
      "3    40\n",
      "4    50\n",
      "dtype: int64\n",
      "<class 'pandas.core.series.Series'>\n",
      "40\n",
      "a    10\n",
      "b    20\n",
      "c    30\n",
      "d    40\n",
      "e    50\n",
      "dtype: int64\n",
      "A    10\n",
      "B    20\n",
      "C    30\n",
      "D    40\n",
      "E    50\n",
      "Name: Student_Marks, dtype: int64\n"
     ]
    }
   ],
   "source": [
    "#exa-\n",
    "import pandas as pd\n",
    "mylist=[10,20,30,40,50]\n",
    "\n",
    "myseries=pd.Series(mylist)\n",
    "print(myseries)\n",
    "\n",
    "#check datatype-\n",
    "print(type(myseries))\n",
    "\n",
    "#getting series value using indexing-\n",
    "print(myseries[3])\n",
    "\n",
    "#passing series index-\n",
    "first=pd.Series(mylist,index=['a','b','c','d','e'])\n",
    "print(first)\n",
    "\n",
    "#naming series with index-\n",
    "second=pd.Series(mylist,index=['A','B','C','D','E'],name='Student_Marks')\n",
    "print(second)"
   ]
  },
  {
   "cell_type": "code",
   "execution_count": 15,
   "id": "fedabcbd",
   "metadata": {},
   "outputs": [
    {
     "name": "stdout",
     "output_type": "stream",
     "text": [
      "1    10\n",
      "2    10\n",
      "3    10\n",
      "4    10\n",
      "5    10\n",
      "dtype: int64\n"
     ]
    }
   ],
   "source": [
    "#SERIES USING SINGLE DATA-\n",
    "data=(10)\n",
    "\n",
    "res=pd.Series((data),index=[1,2,3,4,5])\n",
    "print(res)"
   ]
  },
  {
   "cell_type": "code",
   "execution_count": 17,
   "id": "74ae929c",
   "metadata": {},
   "outputs": [
    {
     "name": "stdout",
     "output_type": "stream",
     "text": [
      "Languages     [c, c++, Java, Python]\n",
      "Popularity             [9, 8, 10, 8]\n",
      "dtype: object\n"
     ]
    }
   ],
   "source": [
    "#DICTIONARY TO SERIES DATA\n",
    "\n",
    "dict={\n",
    "    'Languages':['c','c++','Java','Python'],\n",
    "    'Popularity':[9,8,10,8]\n",
    "}\n",
    "\n",
    "newser=pd.Series(dict)\n",
    "print(newser)"
   ]
  },
  {
   "cell_type": "code",
   "execution_count": 20,
   "id": "52c0c2a4",
   "metadata": {},
   "outputs": [
    {
     "name": "stdout",
     "output_type": "stream",
     "text": [
      "1    20.0\n",
      "2    20.0\n",
      "3    20.0\n",
      "4     NaN\n",
      "5     NaN\n",
      "dtype: float64\n"
     ]
    }
   ],
   "source": [
    "#PANDAS SERIES AVOID BROADCASTING AUTOMATICALLY-\n",
    "\n",
    "var1=pd.Series(10,index=[1,2,3,4,5])\n",
    "var2=pd.Series(10,index=[1,2,3])            #FOR 4 & 5 IT THROWN NAN (NOT A NUMBER) \n",
    "\n",
    "result=var1+var2\n",
    "print(result)                   #NOT ANY THROWING ERROR"
   ]
  },
  {
   "cell_type": "code",
   "execution_count": null,
   "id": "c420139b",
   "metadata": {},
   "outputs": [],
   "source": []
  }
 ],
 "metadata": {
  "kernelspec": {
   "display_name": "Python 3 (ipykernel)",
   "language": "python",
   "name": "python3"
  },
  "language_info": {
   "codemirror_mode": {
    "name": "ipython",
    "version": 3
   },
   "file_extension": ".py",
   "mimetype": "text/x-python",
   "name": "python",
   "nbconvert_exporter": "python",
   "pygments_lexer": "ipython3",
   "version": "3.10.9"
  }
 },
 "nbformat": 4,
 "nbformat_minor": 5
}
