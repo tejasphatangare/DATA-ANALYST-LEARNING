{
 "cells": [
  {
   "cell_type": "code",
   "execution_count": 1,
   "id": "d4fc7a4c",
   "metadata": {},
   "outputs": [],
   "source": [
    "import pandas as pd"
   ]
  },
  {
   "cell_type": "code",
   "execution_count": 3,
   "id": "c461f55f",
   "metadata": {},
   "outputs": [
    {
     "name": "stdout",
     "output_type": "stream",
     "text": [
      "0    10\n",
      "1    20\n",
      "2    30\n",
      "3    40\n",
      "4    50\n",
      "dtype: int64\n",
      "<class 'pandas.core.series.Series'>\n"
     ]
    }
   ],
   "source": [
    "mylist=[10,20,30,40,50]\n",
    "\n",
    "first=pd.Series(mylist)\n",
    "print(first)\n",
    "\n",
    "print(type(first))"
   ]
  },
  {
   "cell_type": "code",
   "execution_count": 4,
   "id": "c61bb9f7",
   "metadata": {},
   "outputs": [
    {
     "name": "stdout",
     "output_type": "stream",
     "text": [
      "30\n"
     ]
    }
   ],
   "source": [
    "#GETTING SERIES VALUE USING INDEXING-\n",
    "\n",
    "first1=pd.Series(mylist)\n",
    "print(first[2])"
   ]
  },
  {
   "cell_type": "code",
   "execution_count": 9,
   "id": "28df6bf4",
   "metadata": {},
   "outputs": [
    {
     "name": "stdout",
     "output_type": "stream",
     "text": [
      "A    10\n",
      "B    20\n",
      "C    30\n",
      "dtype: int64\n"
     ]
    }
   ],
   "source": [
    "#PASSING INDEXING TO THE SERIES-\n",
    "\n",
    "newlist=[10,20,30]\n",
    "second=pd.Series(newlist,index=['A','B','C'])\n",
    "print(second)"
   ]
  },
  {
   "cell_type": "code",
   "execution_count": 10,
   "id": "3b7e7bf4",
   "metadata": {},
   "outputs": [
    {
     "name": "stdout",
     "output_type": "stream",
     "text": [
      "1       RAM\n",
      "2     TEJAS\n",
      "3    MAYURI\n",
      "4       SAI\n",
      "Name: Students, dtype: object\n"
     ]
    }
   ],
   "source": [
    "#NAMING TO SERIES WITH INDEXING-\n",
    "newlist1=['RAM','TEJAS','MAYURI','SAI']\n",
    "third=pd.Series(newlist1,index=[1,2,3,4],name='Students')\n",
    "print(third)"
   ]
  },
  {
   "cell_type": "code",
   "execution_count": 37,
   "id": "0d9b1f31",
   "metadata": {},
   "outputs": [
    {
     "name": "stdout",
     "output_type": "stream",
     "text": [
      "1    10\n",
      "2    10\n",
      "3    10\n",
      "dtype: int64\n"
     ]
    }
   ],
   "source": [
    "data=(10)\n",
    "\n",
    "fourth=pd.Series((data),index=[1,2,3])\n",
    "print(fourth)"
   ]
  },
  {
   "cell_type": "code",
   "execution_count": 47,
   "id": "803cef16",
   "metadata": {},
   "outputs": [
    {
     "name": "stdout",
     "output_type": "stream",
     "text": [
      "Name       [Tejas Phatangare, Akash Phatangare, Sai Ghule]\n",
      "Add                    [Sarole Pathar,Sangamner,Sangamner]\n",
      "Age                                           [21, 22, 23]\n",
      "College                                [Sandip University]\n",
      "dtype: object\n"
     ]
    }
   ],
   "source": [
    "#CONVERTING DICTIONARY TO SERIES\n",
    "\n",
    "mydict={\n",
    "    'Name':['Tejas Phatangare','Akash Phatangare','Sai Ghule'],\n",
    "    'Add':['Sarole Pathar,Sangamner,Sangamner'],\n",
    "    'Age':[21,22,23],\n",
    "    'College':['Sandip University']\n",
    "}\n",
    "\n",
    "five=pd.Series(mydict)\n",
    "print(five)"
   ]
  },
  {
   "cell_type": "code",
   "execution_count": 49,
   "id": "708ed471",
   "metadata": {},
   "outputs": [
    {
     "name": "stdout",
     "output_type": "stream",
     "text": [
      "1    30.0\n",
      "2    30.0\n",
      "3    30.0\n",
      "4     NaN\n",
      "5     NaN\n",
      "dtype: float64\n"
     ]
    }
   ],
   "source": [
    "#PANDAS SERIES AVOID BROADCASTING AUTOMATICALLY-\n",
    "\n",
    "data1=(10)\n",
    "data2=(20)\n",
    "\n",
    "res1=pd.Series(data1,[1,2,3,4,5])\n",
    "res2=pd.Series(data2,[1,2,3])\n",
    "print(res1+res2)"
   ]
  },
  {
   "cell_type": "markdown",
   "id": "5b95f3ba",
   "metadata": {},
   "source": [
    "# DATA FRAME IN PANDAS"
   ]
  },
  {
   "cell_type": "code",
   "execution_count": null,
   "id": "e18572c2",
   "metadata": {},
   "outputs": [],
   "source": [
    "#DATAFRAME-it the 2d data Structure which contains the rows & columns."
   ]
  },
  {
   "cell_type": "code",
   "execution_count": 50,
   "id": "9f51a44d",
   "metadata": {},
   "outputs": [
    {
     "name": "stdout",
     "output_type": "stream",
     "text": [
      "   0\n",
      "0  1\n",
      "1  2\n",
      "2  3\n",
      "3  4\n",
      "4  5\n",
      "5  6\n",
      "6  7\n",
      "7  8\n",
      "8  9\n"
     ]
    }
   ],
   "source": [
    "data1=[1,2,3,4,5,6,7,8,9]\n",
    "\n",
    "t1=pd.DataFrame(data1)\n",
    "print(t1)"
   ]
  },
  {
   "cell_type": "code",
   "execution_count": 55,
   "id": "1cd69810",
   "metadata": {},
   "outputs": [
    {
     "name": "stdout",
     "output_type": "stream",
     "text": [
      "    a    b\n",
      "0  10   60\n",
      "1  20   70\n",
      "2  30   80\n",
      "3  40   90\n",
      "4  50  100\n"
     ]
    }
   ],
   "source": [
    "#DATA FRAME USING DICTIONARY-\n",
    "\n",
    "dic={\n",
    "    'a':[10,20,30,40,50],\n",
    "    'b':[60,70,80,90,100]\n",
    "}\n",
    "\n",
    "t2=pd.DataFrame(dic)\n",
    "print(t2)"
   ]
  },
  {
   "cell_type": "code",
   "execution_count": 63,
   "id": "66b2c239",
   "metadata": {},
   "outputs": [
    {
     "name": "stdout",
     "output_type": "stream",
     "text": [
      "   1\n",
      "0  1\n",
      "1  2\n",
      "2  3\n",
      "3  4\n",
      "4  5\n"
     ]
    }
   ],
   "source": [
    "#ACCESSING A PARTICULAR COLUMNS IN DATA FRAME.\n",
    "\n",
    "dic1={\n",
    "    1:[1,2,3,4,5],\n",
    "    2:[6,7,8,9,0],\n",
    "    3:[0,2,4,6,8]\n",
    "}\n",
    "\n",
    "t3=pd.DataFrame(dic1,columns=[1])\n",
    "print(t3)"
   ]
  },
  {
   "cell_type": "code",
   "execution_count": 66,
   "id": "4c757f85",
   "metadata": {},
   "outputs": [
    {
     "name": "stdout",
     "output_type": "stream",
     "text": [
      "   1  2\n",
      "0  1  6\n",
      "1  2  7\n",
      "2  3  8\n",
      "3  4  9\n",
      "4  5  0\n"
     ]
    }
   ],
   "source": [
    "#ACCESSING A MULTIPLE COLUMNS IN DATA FRAME.\n",
    "\n",
    "dic1={\n",
    "    1:[1,2,3,4,5],\n",
    "    2:[6,7,8,9,0],\n",
    "    3:[0,2,4,6,8]\n",
    "}\n",
    "\n",
    "t3=pd.DataFrame(dic1,columns=[1,2,])\n",
    "print(t3)"
   ]
  },
  {
   "cell_type": "code",
   "execution_count": 72,
   "id": "0cc39916",
   "metadata": {},
   "outputs": [],
   "source": [
    "#ACCESSING DATA FRAME VALUE USING INDEXING-\n",
    "\n",
    "dt=[10,20,30,40,50]\n",
    "\n",
    "t3=pd.DataFrame(dt)"
   ]
  },
  {
   "cell_type": "code",
   "execution_count": 77,
   "id": "a65c9801",
   "metadata": {},
   "outputs": [
    {
     "name": "stdout",
     "output_type": "stream",
     "text": [
      "   0  1  2\n",
      "A  1  2  3\n",
      "B  4  5  6\n",
      "C  7  8  9\n"
     ]
    }
   ],
   "source": [
    "#DATA FRAME USING NESTED LIST-\n",
    "\n",
    "neslist=[[1,2,3],[4,5,6],[7,8,9]]\n",
    "\n",
    "t4=pd.DataFrame(neslist,index=['A','B','C'])\n",
    "print(t4)"
   ]
  },
  {
   "cell_type": "code",
   "execution_count": 84,
   "id": "624b4046",
   "metadata": {},
   "outputs": [
    {
     "name": "stdout",
     "output_type": "stream",
     "text": [
      "   s  r\n",
      "0  1  6\n",
      "1  2  7\n",
      "2  3  8\n",
      "3  4  9\n",
      "4  5  0\n"
     ]
    }
   ],
   "source": [
    "#DATA FRAME USING SERIES-\n",
    "\n",
    "sr={\n",
    "    's':pd.Series([1,2,3,4,5]),\n",
    "    'r':pd.Series([6,7,8,9,0])\n",
    "}\n",
    "\n",
    "t7=pd.DataFrame(sr)\n",
    "print(t7)"
   ]
  },
  {
   "cell_type": "code",
   "execution_count": null,
   "id": "206a08c8",
   "metadata": {},
   "outputs": [],
   "source": [
    "\n"
   ]
  },
  {
   "cell_type": "code",
   "execution_count": null,
   "id": "77d1cc24",
   "metadata": {},
   "outputs": [],
   "source": []
  }
 ],
 "metadata": {
  "kernelspec": {
   "display_name": "Python 3 (ipykernel)",
   "language": "python",
   "name": "python3"
  },
  "language_info": {
   "codemirror_mode": {
    "name": "ipython",
    "version": 3
   },
   "file_extension": ".py",
   "mimetype": "text/x-python",
   "name": "python",
   "nbconvert_exporter": "python",
   "pygments_lexer": "ipython3",
   "version": "3.10.9"
  }
 },
 "nbformat": 4,
 "nbformat_minor": 5
}
