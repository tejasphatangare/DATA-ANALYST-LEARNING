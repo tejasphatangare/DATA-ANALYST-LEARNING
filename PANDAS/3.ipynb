{
 "cells": [
  {
   "cell_type": "markdown",
   "id": "924bcc35",
   "metadata": {},
   "source": [
    "# ARITHMATIC OPERATIONS"
   ]
  },
  {
   "cell_type": "code",
   "execution_count": 27,
   "id": "14362d22",
   "metadata": {},
   "outputs": [],
   "source": [
    "#DATA FRAME ON 2D DATA WITH DICTIONARY-\n",
    "\n",
    "import pandas as pd"
   ]
  },
  {
   "cell_type": "code",
   "execution_count": 25,
   "id": "50165007",
   "metadata": {},
   "outputs": [
    {
     "name": "stdout",
     "output_type": "stream",
     "text": [
      "   A   B  Res\n",
      "0  1   6    7\n",
      "1  2   7    9\n",
      "2  3   8   11\n",
      "3  4   9   13\n",
      "4  5  10   15\n"
     ]
    }
   ],
   "source": [
    "#ADDITION-\n",
    "\n",
    "mydata=pd.DataFrame({\"A\":[1,2,3,4,5],\"B\":[6,7,8,9,10]})\n",
    "\n",
    "mydata['Res']=mydata[\"A\"]+mydata[\"B\"]\n",
    "print(mydata)"
   ]
  },
  {
   "cell_type": "code",
   "execution_count": 28,
   "id": "c5bee032",
   "metadata": {},
   "outputs": [
    {
     "name": "stdout",
     "output_type": "stream",
     "text": [
      "   A   B  Res\n",
      "0  1   6   -5\n",
      "1  2   7   -5\n",
      "2  3   8   -5\n",
      "3  4   9   -5\n",
      "4  5  10   -5\n"
     ]
    }
   ],
   "source": [
    "#SUBSTRACTION-\n",
    "\n",
    "mydata=pd.DataFrame({\"A\":[1,2,3,4,5],\"B\":[6,7,8,9,10]})\n",
    "\n",
    "mydata['Res']=mydata[\"A\"]  -  mydata[\"B\"]\n",
    "print(mydata)"
   ]
  },
  {
   "cell_type": "code",
   "execution_count": 29,
   "id": "aaeabb81",
   "metadata": {},
   "outputs": [
    {
     "name": "stdout",
     "output_type": "stream",
     "text": [
      "   A   B  Res\n",
      "0  1   6    6\n",
      "1  2   7   14\n",
      "2  3   8   24\n",
      "3  4   9   36\n",
      "4  5  10   50\n"
     ]
    }
   ],
   "source": [
    "#MULTIPLICATION-\n",
    "\n",
    "mydata=pd.DataFrame({\"A\":[1,2,3,4,5],\"B\":[6,7,8,9,10]})\n",
    "\n",
    "mydata['Res']=mydata[\"A\"]  *  mydata[\"B\"]\n",
    "print(mydata)"
   ]
  },
  {
   "cell_type": "markdown",
   "id": "86821ad9",
   "metadata": {},
   "source": [
    "# ARITHMATIC OPERATION USING LOGICAL CONDITIONS"
   ]
  },
  {
   "cell_type": "code",
   "execution_count": 35,
   "id": "6e9621a0",
   "metadata": {},
   "outputs": [
    {
     "data": {
      "text/html": [
       "<div>\n",
       "<style scoped>\n",
       "    .dataframe tbody tr th:only-of-type {\n",
       "        vertical-align: middle;\n",
       "    }\n",
       "\n",
       "    .dataframe tbody tr th {\n",
       "        vertical-align: top;\n",
       "    }\n",
       "\n",
       "    .dataframe thead th {\n",
       "        text-align: right;\n",
       "    }\n",
       "</style>\n",
       "<table border=\"1\" class=\"dataframe\">\n",
       "  <thead>\n",
       "    <tr style=\"text-align: right;\">\n",
       "      <th></th>\n",
       "      <th>A</th>\n",
       "      <th>B</th>\n",
       "      <th>Result</th>\n",
       "    </tr>\n",
       "  </thead>\n",
       "  <tbody>\n",
       "    <tr>\n",
       "      <th>0</th>\n",
       "      <td>10</td>\n",
       "      <td>1</td>\n",
       "      <td>True</td>\n",
       "    </tr>\n",
       "    <tr>\n",
       "      <th>1</th>\n",
       "      <td>20</td>\n",
       "      <td>3</td>\n",
       "      <td>False</td>\n",
       "    </tr>\n",
       "    <tr>\n",
       "      <th>2</th>\n",
       "      <td>30</td>\n",
       "      <td>4</td>\n",
       "      <td>False</td>\n",
       "    </tr>\n",
       "    <tr>\n",
       "      <th>3</th>\n",
       "      <td>40</td>\n",
       "      <td>5</td>\n",
       "      <td>False</td>\n",
       "    </tr>\n",
       "    <tr>\n",
       "      <th>4</th>\n",
       "      <td>50</td>\n",
       "      <td>9</td>\n",
       "      <td>False</td>\n",
       "    </tr>\n",
       "  </tbody>\n",
       "</table>\n",
       "</div>"
      ],
      "text/plain": [
       "    A  B  Result\n",
       "0  10  1    True\n",
       "1  20  3   False\n",
       "2  30  4   False\n",
       "3  40  5   False\n",
       "4  50  9   False"
      ]
     },
     "execution_count": 35,
     "metadata": {},
     "output_type": "execute_result"
    }
   ],
   "source": [
    "sample=pd.DataFrame({'A':[10,20,30,40,50],'B':[1,3,4,5,9]})\n",
    "\n",
    "sample['Result']=sample[\"A\"]<20\n",
    "sample"
   ]
  },
  {
   "cell_type": "code",
   "execution_count": 42,
   "id": "c227f382",
   "metadata": {},
   "outputs": [
    {
     "data": {
      "text/html": [
       "<div>\n",
       "<style scoped>\n",
       "    .dataframe tbody tr th:only-of-type {\n",
       "        vertical-align: middle;\n",
       "    }\n",
       "\n",
       "    .dataframe tbody tr th {\n",
       "        vertical-align: top;\n",
       "    }\n",
       "\n",
       "    .dataframe thead th {\n",
       "        text-align: right;\n",
       "    }\n",
       "</style>\n",
       "<table border=\"1\" class=\"dataframe\">\n",
       "  <thead>\n",
       "    <tr style=\"text-align: right;\">\n",
       "      <th></th>\n",
       "      <th>A</th>\n",
       "      <th>B</th>\n",
       "      <th>Result</th>\n",
       "    </tr>\n",
       "  </thead>\n",
       "  <tbody>\n",
       "    <tr>\n",
       "      <th>0</th>\n",
       "      <td>10</td>\n",
       "      <td>1</td>\n",
       "      <td>False</td>\n",
       "    </tr>\n",
       "    <tr>\n",
       "      <th>1</th>\n",
       "      <td>20</td>\n",
       "      <td>3</td>\n",
       "      <td>False</td>\n",
       "    </tr>\n",
       "    <tr>\n",
       "      <th>2</th>\n",
       "      <td>30</td>\n",
       "      <td>4</td>\n",
       "      <td>False</td>\n",
       "    </tr>\n",
       "    <tr>\n",
       "      <th>3</th>\n",
       "      <td>40</td>\n",
       "      <td>5</td>\n",
       "      <td>True</td>\n",
       "    </tr>\n",
       "    <tr>\n",
       "      <th>4</th>\n",
       "      <td>50</td>\n",
       "      <td>9</td>\n",
       "      <td>True</td>\n",
       "    </tr>\n",
       "  </tbody>\n",
       "</table>\n",
       "</div>"
      ],
      "text/plain": [
       "    A  B  Result\n",
       "0  10  1   False\n",
       "1  20  3   False\n",
       "2  30  4   False\n",
       "3  40  5    True\n",
       "4  50  9    True"
      ]
     },
     "execution_count": 42,
     "metadata": {},
     "output_type": "execute_result"
    }
   ],
   "source": [
    "sample1=pd.DataFrame({'A':[10,20,30,40,50],'B':[1,3,4,5,9]})\n",
    "\n",
    "sample1['Result']=sample1[\"B\"]>=5\n",
    "sample1"
   ]
  }
 ],
 "metadata": {
  "kernelspec": {
   "display_name": "Python 3 (ipykernel)",
   "language": "python",
   "name": "python3"
  },
  "language_info": {
   "codemirror_mode": {
    "name": "ipython",
    "version": 3
   },
   "file_extension": ".py",
   "mimetype": "text/x-python",
   "name": "python",
   "nbconvert_exporter": "python",
   "pygments_lexer": "ipython3",
   "version": "3.10.9"
  }
 },
 "nbformat": 4,
 "nbformat_minor": 5
}
