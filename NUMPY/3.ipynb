{
 "cells": [
  {
   "cell_type": "markdown",
   "id": "3a4145fd",
   "metadata": {},
   "source": [
    "# NUMPY GENRATE RANDOM NUMBER"
   ]
  },
  {
   "cell_type": "code",
   "execution_count": 3,
   "id": "29a0ecf7",
   "metadata": {},
   "outputs": [
    {
     "name": "stdout",
     "output_type": "stream",
     "text": [
      "[0.47361892 0.589108  ]\n"
     ]
    }
   ],
   "source": [
    "import numpy as np\n",
    "\n",
    "#1d Array\n",
    "first=np.random.rand(2)\n",
    "print(first)"
   ]
  },
  {
   "cell_type": "code",
   "execution_count": 5,
   "id": "c2eaf95f",
   "metadata": {},
   "outputs": [
    {
     "name": "stdout",
     "output_type": "stream",
     "text": [
      "[[0.31104332 0.60477383 0.29374573]\n",
      " [0.65843196 0.17389071 0.70068838]\n",
      " [0.65177754 0.2714955  0.58668143]\n",
      " [0.81678143 0.88006413 0.40749522]]\n"
     ]
    }
   ],
   "source": [
    "#2d Array\n",
    "first1=np.random.rand(4,3)\n",
    "print(first1)"
   ]
  },
  {
   "cell_type": "code",
   "execution_count": 6,
   "id": "ddac272a",
   "metadata": {},
   "outputs": [
    {
     "name": "stdout",
     "output_type": "stream",
     "text": [
      "[[[0.35999375 0.71217239]\n",
      "  [0.87886356 0.86748153]\n",
      "  [0.98857562 0.38532442]]\n",
      "\n",
      " [[0.51400787 0.44503408]\n",
      "  [0.76967712 0.67447052]\n",
      "  [0.43383924 0.93353009]]\n",
      "\n",
      " [[0.99515873 0.60818503]\n",
      "  [0.82200761 0.8849408 ]\n",
      "  [0.08337282 0.95896212]]\n",
      "\n",
      " [[0.11880378 0.14538881]\n",
      "  [0.1743864  0.6860457 ]\n",
      "  [0.99765811 0.51139   ]]]\n"
     ]
    }
   ],
   "source": [
    "#3d-Array\n",
    "first2=np.random.rand(4,3,2)\n",
    "print(first2)"
   ]
  },
  {
   "cell_type": "markdown",
   "id": "136e6d7d",
   "metadata": {},
   "source": [
    "# RANDN() FUNCTION"
   ]
  },
  {
   "cell_type": "code",
   "execution_count": 14,
   "id": "033db11f",
   "metadata": {},
   "outputs": [
    {
     "name": "stdout",
     "output_type": "stream",
     "text": [
      "[-1.53463024  0.41524009  0.21358595]\n"
     ]
    }
   ],
   "source": [
    "second=np.random.randn(3)\n",
    "print(second)"
   ]
  },
  {
   "cell_type": "code",
   "execution_count": 15,
   "id": "290162d6",
   "metadata": {},
   "outputs": [
    {
     "name": "stdout",
     "output_type": "stream",
     "text": [
      "[[-0.38347757  0.38099759  0.4967693 ]\n",
      " [-0.57797973  2.25226783  1.44474027]\n",
      " [ 1.58593955 -0.27942315 -0.24419016]]\n"
     ]
    }
   ],
   "source": [
    "#2d Array Using randn() Function \n",
    "second1=np.random.randn(3,3)\n",
    "print(second1)"
   ]
  },
  {
   "cell_type": "markdown",
   "id": "f63b9988",
   "metadata": {},
   "source": [
    "# RANDINT() FUNCTION"
   ]
  },
  {
   "cell_type": "code",
   "execution_count": 16,
   "id": "08a81e64",
   "metadata": {},
   "outputs": [
    {
     "name": "stdout",
     "output_type": "stream",
     "text": [
      "[3 3 4 5 5 3 5 3 5 3]\n"
     ]
    }
   ],
   "source": [
    "third=np.random.randint(3,6,10)\n",
    "print(third)"
   ]
  },
  {
   "cell_type": "code",
   "execution_count": 21,
   "id": "a68de43e",
   "metadata": {},
   "outputs": [
    {
     "name": "stdout",
     "output_type": "stream",
     "text": [
      "[4 4 4 3 4]\n"
     ]
    }
   ],
   "source": [
    "third1=np.random.randint(3,5,5)\n",
    "print(third1)"
   ]
  },
  {
   "cell_type": "code",
   "execution_count": null,
   "id": "cadc9a93",
   "metadata": {},
   "outputs": [],
   "source": []
  }
 ],
 "metadata": {
  "kernelspec": {
   "display_name": "Python 3 (ipykernel)",
   "language": "python",
   "name": "python3"
  },
  "language_info": {
   "codemirror_mode": {
    "name": "ipython",
    "version": 3
   },
   "file_extension": ".py",
   "mimetype": "text/x-python",
   "name": "python",
   "nbconvert_exporter": "python",
   "pygments_lexer": "ipython3",
   "version": "3.10.9"
  }
 },
 "nbformat": 4,
 "nbformat_minor": 5
}
