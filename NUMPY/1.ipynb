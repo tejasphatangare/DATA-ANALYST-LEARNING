{
 "cells": [
  {
   "cell_type": "markdown",
   "id": "3d9cbea6",
   "metadata": {},
   "source": [
    "# NUMPY ARRAY"
   ]
  },
  {
   "cell_type": "code",
   "execution_count": 10,
   "id": "73433fe7",
   "metadata": {},
   "outputs": [
    {
     "name": "stdout",
     "output_type": "stream",
     "text": [
      "[1 2 3 4]\n",
      "<class 'numpy.ndarray'>\n",
      "1\n"
     ]
    }
   ],
   "source": [
    "import numpy as np\n",
    "\n",
    "\n",
    "#ONE DIMENSIONAL ARRAY\n",
    "first=np.array([1,2,3,4])\n",
    "print(first)\n",
    "\n",
    "\n",
    "print(type(first))\n",
    "print(first.ndim)"
   ]
  },
  {
   "cell_type": "code",
   "execution_count": 8,
   "id": "3cdea08a",
   "metadata": {},
   "outputs": [
    {
     "name": "stdout",
     "output_type": "stream",
     "text": [
      "[[1 2 3 4]\n",
      " [1 2 3 4]]\n",
      "2\n"
     ]
    }
   ],
   "source": [
    "#TWO-DIMENSIONAL ARRAY\n",
    "second=np.array([[1,2,3,4],[1,2,3,4]])\n",
    "print(second)\n",
    "print(second.ndim)"
   ]
  },
  {
   "cell_type": "code",
   "execution_count": 29,
   "id": "62d07ff2",
   "metadata": {},
   "outputs": [
    {
     "name": "stdout",
     "output_type": "stream",
     "text": [
      "[[[44 55 66]\n",
      "  [11 22 33]]]\n",
      "3\n"
     ]
    }
   ],
   "source": [
    "#THREE-DIMENSIONAL ARRAY\n",
    "third=np.array([[[44,55,66],[11,22,33]]])\n",
    "print(third)\n",
    "\n",
    "print(third.ndim)"
   ]
  },
  {
   "cell_type": "code",
   "execution_count": 18,
   "id": "02bb2ed6",
   "metadata": {},
   "outputs": [
    {
     "name": "stdout",
     "output_type": "stream",
     "text": [
      "[[[[[[[33 44 66]]]]]]]\n",
      "7\n"
     ]
    }
   ],
   "source": [
    "#MULTI-DIMENSIONAL ARRAY\n",
    "\n",
    "fourth=np.array([33,44,66],ndmin=7)\n",
    "print(fourth)\n",
    "\n",
    "print(fourth.ndim)"
   ]
  },
  {
   "cell_type": "code",
   "execution_count": 27,
   "id": "0f81f464",
   "metadata": {},
   "outputs": [
    {
     "name": "stdout",
     "output_type": "stream",
     "text": [
      "Enter Value To Insert In Array12\n",
      "Enter Value To Insert In Array12\n",
      "Enter Value To Insert In Array13\n",
      "Enter Value To Insert In Array13\n",
      "[1 2 3 4]\n",
      "<class 'numpy.ndarray'>\n"
     ]
    }
   ],
   "source": [
    "userinput=[]\n",
    "for i in range(1,5):\n",
    "    uservalue=int(input('Enter Value To Insert In Array'))\n",
    "    userinput.append(i)\n",
    "    \n",
    "fifth=np.array(userinput)\n",
    "print(fifth)\n",
    "print(type(fifth))\n"
   ]
  },
  {
   "cell_type": "code",
   "execution_count": null,
   "id": "3b14fb3e",
   "metadata": {},
   "outputs": [],
   "source": []
  }
 ],
 "metadata": {
  "kernelspec": {
   "display_name": "Python 3 (ipykernel)",
   "language": "python",
   "name": "python3"
  },
  "language_info": {
   "codemirror_mode": {
    "name": "ipython",
    "version": 3
   },
   "file_extension": ".py",
   "mimetype": "text/x-python",
   "name": "python",
   "nbconvert_exporter": "python",
   "pygments_lexer": "ipython3",
   "version": "3.10.9"
  }
 },
 "nbformat": 4,
 "nbformat_minor": 5
}
