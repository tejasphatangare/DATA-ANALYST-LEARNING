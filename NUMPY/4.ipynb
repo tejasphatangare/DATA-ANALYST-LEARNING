{
 "cells": [
  {
   "cell_type": "code",
   "execution_count": 1,
   "id": "0f83574a",
   "metadata": {},
   "outputs": [
    {
     "name": "stdout",
     "output_type": "stream",
     "text": [
      "5\n"
     ]
    }
   ],
   "source": [
    "import numpy as np\n",
    "\n",
    "first=np.array([10,20,30,10,5])\n",
    "task=np.min(first)\n",
    "print(task)"
   ]
  },
  {
   "cell_type": "code",
   "execution_count": 2,
   "id": "352409af",
   "metadata": {},
   "outputs": [
    {
     "name": "stdout",
     "output_type": "stream",
     "text": [
      "40\n"
     ]
    }
   ],
   "source": [
    "second=np.array([10,30,40,20,5])\n",
    "task1=np.max(second)\n",
    "print(task1)"
   ]
  },
  {
   "cell_type": "code",
   "execution_count": 3,
   "id": "b2fbb656",
   "metadata": {},
   "outputs": [
    {
     "name": "stdout",
     "output_type": "stream",
     "text": [
      "2\n"
     ]
    }
   ],
   "source": [
    "third=np.array([30,20,10,40])\n",
    "task2=np.argmin(third)\n",
    "print(task2)"
   ]
  },
  {
   "cell_type": "code",
   "execution_count": 4,
   "id": "1c0706e6",
   "metadata": {},
   "outputs": [
    {
     "name": "stdout",
     "output_type": "stream",
     "text": [
      "4\n"
     ]
    }
   ],
   "source": [
    "fourth=np.array([50,60,20,10,90])\n",
    "task3=np.argmax(fourth)\n",
    "print(task3)"
   ]
  },
  {
   "cell_type": "code",
   "execution_count": 7,
   "id": "c9427b72",
   "metadata": {},
   "outputs": [
    {
     "name": "stdout",
     "output_type": "stream",
     "text": [
      "[10 10]\n"
     ]
    }
   ],
   "source": [
    "fifth=np.array([[10,20,30],[10,20,30]])\n",
    "task4=np.min(fifth,axis=1)\n",
    "print(task4)"
   ]
  },
  {
   "cell_type": "code",
   "execution_count": 10,
   "id": "430f4168",
   "metadata": {},
   "outputs": [
    {
     "name": "stdout",
     "output_type": "stream",
     "text": [
      "[ 10 200  30]\n"
     ]
    }
   ],
   "source": [
    "fifth=np.array([[10,2000,30],[100,200,300]])\n",
    "task4=np.min(fifth,axis=0)\n",
    "print(task4)"
   ]
  },
  {
   "cell_type": "code",
   "execution_count": 11,
   "id": "298d1103",
   "metadata": {},
   "outputs": [
    {
     "name": "stdout",
     "output_type": "stream",
     "text": [
      "[1.41421356 2.         2.44948974 2.82842712]\n"
     ]
    }
   ],
   "source": [
    "sixth=np.array([2,4,6,8])\n",
    "task5=np.sqrt(sixth)\n",
    "print(task5)"
   ]
  },
  {
   "cell_type": "code",
   "execution_count": 12,
   "id": "b6f458c9",
   "metadata": {},
   "outputs": [
    {
     "name": "stdout",
     "output_type": "stream",
     "text": [
      "[-0.54402111  0.91294525 -0.98803162  0.74511316]\n"
     ]
    }
   ],
   "source": [
    "seven=np.array([10,20,30,40])\n",
    "task6=np.sin(seven)\n",
    "print(task6)"
   ]
  },
  {
   "cell_type": "code",
   "execution_count": 14,
   "id": "6c0269da",
   "metadata": {},
   "outputs": [
    {
     "name": "stdout",
     "output_type": "stream",
     "text": [
      "[-0.83907153  0.40808206  0.15425145 -0.66693806]\n"
     ]
    }
   ],
   "source": [
    "eight=np.array([1,2,3,4])\n",
    "task7=np.cos(seven)\n",
    "print(task7)"
   ]
  },
  {
   "cell_type": "code",
   "execution_count": 15,
   "id": "913b7c2e",
   "metadata": {},
   "outputs": [
    {
     "name": "stdout",
     "output_type": "stream",
     "text": [
      "[ 1  3  6 10]\n"
     ]
    }
   ],
   "source": [
    "nine=np.array([1,2,3,4])\n",
    "task8=np.cumsum(nine)\n",
    "print(task8)"
   ]
  }
 ],
 "metadata": {
  "kernelspec": {
   "display_name": "Python 3 (ipykernel)",
   "language": "python",
   "name": "python3"
  },
  "language_info": {
   "codemirror_mode": {
    "name": "ipython",
    "version": 3
   },
   "file_extension": ".py",
   "mimetype": "text/x-python",
   "name": "python",
   "nbconvert_exporter": "python",
   "pygments_lexer": "ipython3",
   "version": "3.10.9"
  }
 },
 "nbformat": 4,
 "nbformat_minor": 5
}
