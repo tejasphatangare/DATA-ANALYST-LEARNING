{
 "cells": [
  {
   "cell_type": "code",
   "execution_count": 1,
   "id": "06e2061b",
   "metadata": {},
   "outputs": [],
   "source": [
    "import numpy as np"
   ]
  },
  {
   "cell_type": "code",
   "execution_count": 3,
   "id": "5915096e",
   "metadata": {},
   "outputs": [
    {
     "name": "stdout",
     "output_type": "stream",
     "text": [
      "[10 30 20 40 60]\n",
      "1\n"
     ]
    }
   ],
   "source": [
    "#CREATING 1D ARRAY\n",
    "\n",
    "first=np.array([10,30,20,40,60])\n",
    "print(first)\n",
    "print(first.ndim)"
   ]
  },
  {
   "cell_type": "code",
   "execution_count": 3,
   "id": "28e84350",
   "metadata": {},
   "outputs": [
    {
     "name": "stdout",
     "output_type": "stream",
     "text": [
      "[[10 20 30]\n",
      " [40 50 60]\n",
      " [70 80 90]]\n"
     ]
    }
   ],
   "source": [
    "#CREATING 2D ARRAY\n",
    "\n",
    "import numpy as np\n",
    "second=np.array([[10,20,30],[40,50,60],[70,80,90]])\n",
    "print(second)"
   ]
  },
  {
   "cell_type": "code",
   "execution_count": 7,
   "id": "e7327944",
   "metadata": {},
   "outputs": [
    {
     "name": "stdout",
     "output_type": "stream",
     "text": [
      "[[[10 20]\n",
      "  [30 40]\n",
      "  [50 60]]]\n",
      "3\n"
     ]
    }
   ],
   "source": [
    "#CREATING 3D ARRAY-\n",
    "third=np.array([[[10,20],[30,40],[50,60]]])\n",
    "print(third)\n",
    "print(third.ndim)"
   ]
  },
  {
   "cell_type": "code",
   "execution_count": 10,
   "id": "b08ff62c",
   "metadata": {},
   "outputs": [
    {
     "name": "stdout",
     "output_type": "stream",
     "text": [
      "[[[[[[[[1 2 3]]]]]]]]\n",
      "8\n"
     ]
    }
   ],
   "source": [
    "#CREATING MULTI DIMENSIONAL ARRAY-\n",
    "\n",
    "fourth=np.array([1,2,3],ndmin=8)\n",
    "print(fourth)\n",
    "print(fourth.ndim)"
   ]
  },
  {
   "cell_type": "markdown",
   "id": "25119384",
   "metadata": {},
   "source": [
    "# NUMPY FUNCTIONS"
   ]
  },
  {
   "cell_type": "code",
   "execution_count": 18,
   "id": "62830011",
   "metadata": {},
   "outputs": [
    {
     "name": "stdout",
     "output_type": "stream",
     "text": [
      "[0. 0. 0. 0. 0. 0. 0. 0.]\n",
      "\n",
      "[[0. 0. 0.]\n",
      " [0. 0. 0.]]\n",
      "\n",
      "[[0. 0. 0. 0. 0.]\n",
      " [0. 0. 0. 0. 0.]\n",
      " [0. 0. 0. 0. 0.]\n",
      " [0. 0. 0. 0. 0.]\n",
      " [0. 0. 0. 0. 0.]\n",
      " [0. 0. 0. 0. 0.]]\n"
     ]
    }
   ],
   "source": [
    "#1D ZEROS\n",
    "fifth=np.zeros(8)\n",
    "print(fifth)\n",
    "\n",
    "print()\n",
    "\n",
    "#2D ZEROS\n",
    "fifth1=np.zeros((2,3))\n",
    "print(fifth1)\n",
    "\n",
    "print()\n",
    "\n",
    "#3D ZEROS\n",
    "fifth2=np.zeros(((6,5)))\n",
    "print(fifth2)"
   ]
  },
  {
   "cell_type": "code",
   "execution_count": 23,
   "id": "9bd29951",
   "metadata": {},
   "outputs": [
    {
     "name": "stdout",
     "output_type": "stream",
     "text": [
      "[1. 1. 1. 1.]\n",
      "\n",
      "[[1. 1. 1.]\n",
      " [1. 1. 1.]\n",
      " [1. 1. 1.]]\n",
      "\n",
      "[[[1. 1. 1. 1. 1.]\n",
      "  [1. 1. 1. 1. 1.]\n",
      "  [1. 1. 1. 1. 1.]\n",
      "  [1. 1. 1. 1. 1.]]\n",
      "\n",
      " [[1. 1. 1. 1. 1.]\n",
      "  [1. 1. 1. 1. 1.]\n",
      "  [1. 1. 1. 1. 1.]\n",
      "  [1. 1. 1. 1. 1.]]\n",
      "\n",
      " [[1. 1. 1. 1. 1.]\n",
      "  [1. 1. 1. 1. 1.]\n",
      "  [1. 1. 1. 1. 1.]\n",
      "  [1. 1. 1. 1. 1.]]]\n"
     ]
    }
   ],
   "source": [
    "#1D ONES\n",
    "\n",
    "sixth=np.ones(4)\n",
    "print(sixth)\n",
    "\n",
    "print()\n",
    "\n",
    "#2D ONES\n",
    "sixth1=np.ones((3,3))\n",
    "print(sixth1)\n",
    "\n",
    "print()\n",
    "\n",
    "\n",
    "#3D ONES\n",
    "\n",
    "sixth2=np.ones(((3,4,5)))\n",
    "print(sixth2)"
   ]
  },
  {
   "cell_type": "code",
   "execution_count": 29,
   "id": "ba4ad8e0",
   "metadata": {},
   "outputs": [
    {
     "name": "stdout",
     "output_type": "stream",
     "text": [
      "[4.24399158e-313 8.48798317e-313 1.27319747e-312]\n",
      "\n",
      "[[1. 1. 1.]\n",
      " [1. 1. 1.]\n",
      " [1. 1. 1.]]\n",
      "\n",
      "[[[ 1.48027923e-221]\n",
      "  [-3.52374783e-062]]]\n"
     ]
    }
   ],
   "source": [
    "#1D EMPTY-\n",
    "seven=np.empty(3)\n",
    "print(seven)\n",
    "\n",
    "print()\n",
    "\n",
    "#2D EMPTY\n",
    "seven1=np.empty((3,3))\n",
    "print(seven1)\n",
    "\n",
    "print()\n",
    "\n",
    "#3D EMPTY\n",
    "seven2=np.empty(((1,2,1)))\n",
    "print(seven2)"
   ]
  },
  {
   "cell_type": "code",
   "execution_count": 45,
   "id": "8567a7ad",
   "metadata": {},
   "outputs": [
    {
     "name": "stdout",
     "output_type": "stream",
     "text": [
      "[0 1 2 3]\n",
      "\n",
      "[]\n",
      "[0 1 2 3 4 5 6 7 8]\n"
     ]
    }
   ],
   "source": [
    "#1D ARANGE-\n",
    "eight=np.arange(4)\n",
    "print(eight)\n",
    "\n",
    "print()\n",
    "\n",
    "#2D ARANGE-\n",
    "eight1=np.arange(6,3)\n",
    "print(eight1)\n",
    "\n",
    "#3D ARANGE-\n",
    "eight2=np.arange(9)\n",
    "print(eight2)                        #GETTING ERRORS HERE"
   ]
  },
  {
   "cell_type": "code",
   "execution_count": 51,
   "id": "ac0467a5",
   "metadata": {},
   "outputs": [
    {
     "name": "stdout",
     "output_type": "stream",
     "text": [
      "[[1. 0.]\n",
      " [0. 1.]]\n",
      "\n",
      "[[1. 0. 0. 0. 0.]\n",
      " [0. 1. 0. 0. 0.]\n",
      " [0. 0. 1. 0. 0.]\n",
      " [0. 0. 0. 1. 0.]\n",
      " [0. 0. 0. 0. 1.]]\n",
      "\n",
      "[[1. 0. 0. 0. 0.]\n",
      " [0. 1. 0. 0. 0.]\n",
      " [0. 0. 1. 0. 0.]\n",
      " [0. 0. 0. 1. 0.]]\n"
     ]
    }
   ],
   "source": [
    "#1D-EYE FUNCTION\n",
    "\n",
    "nine=np.eye(2)\n",
    "print(nine)\n",
    "\n",
    "print()\n",
    "\n",
    "#2D-EYE FUNCTION\n",
    "nine1=np.eye(5,5)\n",
    "print(nine1)\n",
    "\n",
    "print()\n",
    "\n",
    "#3D-EYE FUNCTION\n",
    "nine2=np.eye(4,5)\n",
    "print(nine2)"
   ]
  },
  {
   "cell_type": "markdown",
   "id": "263d3c13",
   "metadata": {},
   "source": [
    "# NUMPY RANDOM FUNCTION"
   ]
  },
  {
   "cell_type": "code",
   "execution_count": 60,
   "id": "da50c043",
   "metadata": {},
   "outputs": [
    {
     "name": "stdout",
     "output_type": "stream",
     "text": [
      "[0.23018303]\n",
      "[[0.12087834 0.36974275]\n",
      " [0.76176771 0.20140313]]\n",
      "[[[0.34242128 0.23507045 0.90617876 0.30393073 0.56361772]\n",
      "  [0.06684502 0.20247019 0.91798022 0.93741661 0.24677963]\n",
      "  [0.65460388 0.6653401  0.80422064 0.77725852 0.91189211]\n",
      "  [0.14364422 0.28842234 0.71624669 0.32833784 0.81044601]]\n",
      "\n",
      " [[0.57001914 0.38122344 0.24455357 0.02852458 0.64979465]\n",
      "  [0.67994468 0.97180135 0.47561096 0.63445907 0.80614055]\n",
      "  [0.81140919 0.96498092 0.16067467 0.42946943 0.78807934]\n",
      "  [0.72227063 0.86749274 0.33575533 0.54016195 0.50051474]]\n",
      "\n",
      " [[0.99865183 0.76625659 0.82958327 0.22541739 0.50001975]\n",
      "  [0.85372706 0.08239783 0.68216589 0.89081098 0.29405977]\n",
      "  [0.97866466 0.83739445 0.29588698 0.62117667 0.07415623]\n",
      "  [0.84401726 0.95467223 0.5985722  0.60448018 0.29044969]]]\n"
     ]
    }
   ],
   "source": [
    "#1D RANDOM-\n",
    "\n",
    "var=np.random.rand(1)\n",
    "print(var)\n",
    "\n",
    "#2D RANDOM\n",
    "var1=np.random.rand(2,2)\n",
    "print(var1)\n",
    "\n",
    "#3D RANDOM\n",
    "var2=np.random.rand(3,4,5)\n",
    "print(var2)"
   ]
  },
  {
   "cell_type": "code",
   "execution_count": 63,
   "id": "61cb69ce",
   "metadata": {},
   "outputs": [
    {
     "name": "stdout",
     "output_type": "stream",
     "text": [
      "[-0.38832994]\n",
      "[[-0.04812223  0.9147654  -0.37565805]\n",
      " [-0.23183836  0.10890744 -0.24643302]]\n",
      "[[[-0.51071646]\n",
      "  [-1.11602232]]\n",
      "\n",
      " [[-0.01680966]\n",
      "  [ 0.18357954]]\n",
      "\n",
      " [[-0.18327256]\n",
      "  [ 1.73147311]]\n",
      "\n",
      " [[ 0.06392515]\n",
      "  [-0.79201054]]]\n"
     ]
    }
   ],
   "source": [
    "#1D RANDN-\n",
    "var1=np.random.randn(1)\n",
    "print(var1)\n",
    "\n",
    "#2D RANDN-\n",
    "var11=np.random.randn(2,3)\n",
    "print(var11)\n",
    "\n",
    "#3D RANDN-\n",
    "var12=np.random.randn(4,2,1)\n",
    "print(var12)"
   ]
  },
  {
   "cell_type": "code",
   "execution_count": 79,
   "id": "5aa706a5",
   "metadata": {},
   "outputs": [
    {
     "name": "stdout",
     "output_type": "stream",
     "text": [
      "1\n",
      "[2 0]\n",
      "[0 3 1]\n"
     ]
    }
   ],
   "source": [
    "#1D RANDINT-\n",
    "var2=np.random.randint(4)\n",
    "print(var2)\n",
    "\n",
    "#2D RANDINT-\n",
    "var22=np.random.randint((3,5))\n",
    "print(var22)\n",
    "\n",
    "#3D RANDINT-\n",
    "var23=np.random.randint(((4,5,4)))\n",
    "print(var23)"
   ]
  },
  {
   "cell_type": "markdown",
   "id": "14b6b3b1",
   "metadata": {},
   "source": [
    "# NUMPY_ARITHMATIC_OPERATIONS"
   ]
  },
  {
   "cell_type": "code",
   "execution_count": 90,
   "id": "ddacc0cf",
   "metadata": {},
   "outputs": [
    {
     "name": "stdout",
     "output_type": "stream",
     "text": [
      "[15 25 35]\n",
      "\n",
      "[60 80]\n",
      "\n",
      "[ 90 120]\n"
     ]
    }
   ],
   "source": [
    "#1D-ADDITION-\n",
    "addi=np.array([10,20,30])\n",
    "task1=addi+5\n",
    "print(task1)\n",
    "\n",
    "print()\n",
    "\n",
    "#2D-ADDITION-\n",
    "addi1=np.array([10,20])\n",
    "addi11=np.array([50,60])\n",
    "res= addi1 + addi11\n",
    "print(res)\n",
    "\n",
    "print()\n",
    "\n",
    "#3D-ADDITION\n",
    "add11=np.array([10,20])\n",
    "add111=np.array([30,40])\n",
    "add1111=np.array([50,60])\n",
    "res1=add11+add111+add1111\n",
    "print(res1)"
   ]
  },
  {
   "cell_type": "code",
   "execution_count": 92,
   "id": "d1ae1f85",
   "metadata": {},
   "outputs": [
    {
     "name": "stdout",
     "output_type": "stream",
     "text": [
      "[-50 -40 -30]\n"
     ]
    }
   ],
   "source": [
    "#SUBSTRACTION\n",
    "sub=np.array([40,50,60])\n",
    "sub1=np.array([90,90,90])\n",
    "sub_res=sub-sub1\n",
    "print(sub_res)"
   ]
  },
  {
   "cell_type": "code",
   "execution_count": 94,
   "id": "8df63e28",
   "metadata": {},
   "outputs": [
    {
     "name": "stdout",
     "output_type": "stream",
     "text": [
      "[ 80 180 210]\n"
     ]
    }
   ],
   "source": [
    "#MULTIPLICATION\n",
    "mul=np.array([80,90,70])\n",
    "mul1=np.array([1,2,3])\n",
    "mul_res=mul*mul1\n",
    "print(mul_res)"
   ]
  },
  {
   "cell_type": "code",
   "execution_count": 95,
   "id": "4ee92b2e",
   "metadata": {},
   "outputs": [
    {
     "name": "stdout",
     "output_type": "stream",
     "text": [
      "[0.1        0.18181818 0.25      ]\n"
     ]
    }
   ],
   "source": [
    "#DIVISION-\n",
    "div=np.array([1,2,3])\n",
    "div1=np.array([10,11,12])\n",
    "div_res=div/div1\n",
    "print(div_res)"
   ]
  },
  {
   "cell_type": "markdown",
   "id": "e87e7190",
   "metadata": {},
   "source": [
    "# NUMPY ARITHMATIC FUNCTIONS-"
   ]
  },
  {
   "cell_type": "code",
   "execution_count": 98,
   "id": "8c04ec92",
   "metadata": {},
   "outputs": [
    {
     "name": "stdout",
     "output_type": "stream",
     "text": [
      "5\n"
     ]
    }
   ],
   "source": [
    "#Min\n",
    "a=np.array([10,20,30,5,60,70])\n",
    "print(a.min())"
   ]
  },
  {
   "cell_type": "code",
   "execution_count": 99,
   "id": "16fdd434",
   "metadata": {},
   "outputs": [
    {
     "name": "stdout",
     "output_type": "stream",
     "text": [
      "99\n"
     ]
    }
   ],
   "source": [
    "#MAX-\n",
    "b=np.array([1,4,3,2,8,9,33,78,99,1,3,4])\n",
    "print(b.max())"
   ]
  },
  {
   "cell_type": "code",
   "execution_count": 100,
   "id": "c144c9a0",
   "metadata": {},
   "outputs": [
    {
     "name": "stdout",
     "output_type": "stream",
     "text": [
      "3\n"
     ]
    }
   ],
   "source": [
    "#ARGMIN-it find the Minimum values Index In Array\n",
    "c=np.array([10,20,30,5,60,70])\n",
    "print(a.argmin())"
   ]
  },
  {
   "cell_type": "code",
   "execution_count": 105,
   "id": "778a155d",
   "metadata": {},
   "outputs": [
    {
     "name": "stdout",
     "output_type": "stream",
     "text": [
      "8\n"
     ]
    }
   ],
   "source": [
    "#ARGMAX-it find the maximum values index in array-\n",
    "b=np.array([1,4,3,2,8,9,33,78,99,1,3,4])\n",
    "print(np.argmax(b))"
   ]
  },
  {
   "cell_type": "code",
   "execution_count": 104,
   "id": "52138db7",
   "metadata": {},
   "outputs": [
    {
     "name": "stdout",
     "output_type": "stream",
     "text": [
      "[3.16227766 4.47213595 5.47722558]\n"
     ]
    }
   ],
   "source": [
    "#SQRT-it find the square root of an any array\n",
    "findsquare=np.array([10,20,30])\n",
    "print(np.sqrt(findsquare))"
   ]
  },
  {
   "cell_type": "code",
   "execution_count": 106,
   "id": "3566e0ba",
   "metadata": {},
   "outputs": [
    {
     "name": "stdout",
     "output_type": "stream",
     "text": [
      "[-0.54402111  0.91294525]\n"
     ]
    }
   ],
   "source": [
    "#SIN-it is used for find the Sin Value Of An array\n",
    "finsin=np.array([10,20])\n",
    "print(np.sin(finsin))"
   ]
  },
  {
   "cell_type": "code",
   "execution_count": 107,
   "id": "124094cd",
   "metadata": {},
   "outputs": [
    {
     "name": "stdout",
     "output_type": "stream",
     "text": [
      "[ 0.54030231 -0.41614684 -0.9899925 ]\n"
     ]
    }
   ],
   "source": [
    "#COS-it is used for find the Cos Value of An Array-\n",
    "fincos=np.array([1,2,3])\n",
    "print(np.cos(fincos))"
   ]
  },
  {
   "cell_type": "markdown",
   "id": "332a331d",
   "metadata": {},
   "source": [
    "# NUMPY INDEXING"
   ]
  },
  {
   "cell_type": "code",
   "execution_count": 112,
   "id": "796821ae",
   "metadata": {},
   "outputs": [
    {
     "name": "stdout",
     "output_type": "stream",
     "text": [
      "30\n",
      "20\n"
     ]
    }
   ],
   "source": [
    "#1D-INDEX\n",
    "ind=np.array([10,20,30,40])\n",
    "print(ind[2])\n",
    "print(ind[-3])"
   ]
  },
  {
   "cell_type": "code",
   "execution_count": 115,
   "id": "d9c8689b",
   "metadata": {},
   "outputs": [
    {
     "name": "stdout",
     "output_type": "stream",
     "text": [
      "7\n",
      "2\n"
     ]
    }
   ],
   "source": [
    "#2D-INDEX\n",
    "ind1=np.array([[1,2,3,4],[5,6,7,8]])\n",
    "print(ind1[1,2])\n",
    "print(ind1[0,-3])"
   ]
  },
  {
   "cell_type": "code",
   "execution_count": 121,
   "id": "6e8b5e87",
   "metadata": {},
   "outputs": [
    {
     "name": "stdout",
     "output_type": "stream",
     "text": [
      "9\n",
      "7\n"
     ]
    }
   ],
   "source": [
    "#3D INDEX\n",
    "ind2=np.array([[[1,2,3],[4,5,6],[7,8,9]]])\n",
    "\n",
    "print(ind2[0,2,2])\n",
    "print(ind2[0,-1,-3])"
   ]
  },
  {
   "cell_type": "markdown",
   "id": "4df10560",
   "metadata": {},
   "source": [
    "# SLICING IN NUMPY"
   ]
  },
  {
   "cell_type": "code",
   "execution_count": 124,
   "id": "d7e15a50",
   "metadata": {},
   "outputs": [
    {
     "name": "stdout",
     "output_type": "stream",
     "text": [
      "[3 4 5 6 7 8 9 0]\n",
      "[1 2 3 4 5]\n",
      "[2 4 6 8]\n"
     ]
    }
   ],
   "source": [
    "#1D-SLICING\n",
    "sli=np.array([1,2,3,4,5,6,7,8,9,0])\n",
    "print(sli[2::])\n",
    "print(sli[:5:])\n",
    "print(sli[1:9:2])"
   ]
  },
  {
   "cell_type": "code",
   "execution_count": 136,
   "id": "41c5a2c3",
   "metadata": {},
   "outputs": [
    {
     "name": "stdout",
     "output_type": "stream",
     "text": [
      "50\n",
      "30\n"
     ]
    }
   ],
   "source": [
    "#2D-Slicing\n",
    "sli1=np.array([[10,20,30],[40,50,60]])\n",
    "print(sli1[1,1])\n",
    "print(sli1[0,2])"
   ]
  },
  {
   "cell_type": "code",
   "execution_count": 141,
   "id": "766d58f5",
   "metadata": {},
   "outputs": [
    {
     "name": "stdout",
     "output_type": "stream",
     "text": [
      "9\n",
      "5\n",
      "1\n"
     ]
    }
   ],
   "source": [
    "#3D-SLICING-\n",
    "sli2=np.array([[[1,2,3],[4,5,6],[7,8,9]]])\n",
    "print(sli2[0,2,2])\n",
    "print(sli2[0,1,1])\n",
    "print(sli2[0,0,0])"
   ]
  },
  {
   "cell_type": "markdown",
   "id": "3d426082",
   "metadata": {},
   "source": [
    "# JOIN ARRAY IN NUMPY-"
   ]
  },
  {
   "cell_type": "code",
   "execution_count": 146,
   "id": "4ab9f74b",
   "metadata": {},
   "outputs": [
    {
     "name": "stdout",
     "output_type": "stream",
     "text": [
      "[1 2 3 4 5 6]\n"
     ]
    }
   ],
   "source": [
    "#1D-JOIN\n",
    "sli3=np.array([1,2,3])\n",
    "sli4=np.array([4,5,6])\n",
    "ress=np.concatenate((sli3,sli4))\n",
    "print(ress)"
   ]
  },
  {
   "cell_type": "code",
   "execution_count": 149,
   "id": "b2e7eb05",
   "metadata": {},
   "outputs": [
    {
     "name": "stdout",
     "output_type": "stream",
     "text": [
      "[[1 2 5 6]\n",
      " [3 4 7 8]]\n"
     ]
    }
   ],
   "source": [
    "#2D-JOIN\n",
    "sli4=np.array([[1,2],[3,4]])\n",
    "sli5=np.array([[5,6],[7,8]])\n",
    "resss=np.concatenate((sli4,sli5),axis=1)\n",
    "print(resss)"
   ]
  },
  {
   "cell_type": "code",
   "execution_count": 150,
   "id": "b5fa975f",
   "metadata": {},
   "outputs": [
    {
     "name": "stdout",
     "output_type": "stream",
     "text": [
      "[[1 2]\n",
      " [3 4]\n",
      " [5 6]\n",
      " [7 8]]\n"
     ]
    }
   ],
   "source": [
    "sli4=np.array([[1,2],[3,4]])\n",
    "sli5=np.array([[5,6],[7,8]])\n",
    "resss=np.concatenate((sli4,sli5),axis=0)\n",
    "print(resss)"
   ]
  }
 ],
 "metadata": {
  "kernelspec": {
   "display_name": "Python 3 (ipykernel)",
   "language": "python",
   "name": "python3"
  },
  "language_info": {
   "codemirror_mode": {
    "name": "ipython",
    "version": 3
   },
   "file_extension": ".py",
   "mimetype": "text/x-python",
   "name": "python",
   "nbconvert_exporter": "python",
   "pygments_lexer": "ipython3",
   "version": "3.10.9"
  }
 },
 "nbformat": 4,
 "nbformat_minor": 5
}
