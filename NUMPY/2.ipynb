{
 "cells": [
  {
   "cell_type": "code",
   "execution_count": 2,
   "id": "a8a0c64e",
   "metadata": {},
   "outputs": [],
   "source": [
    "import numpy as np"
   ]
  },
  {
   "cell_type": "markdown",
   "id": "4d78e544",
   "metadata": {},
   "source": [
    "\n",
    "# ZEROS"
   ]
  },
  {
   "cell_type": "code",
   "execution_count": 7,
   "id": "fab08d08",
   "metadata": {},
   "outputs": [
    {
     "name": "stdout",
     "output_type": "stream",
     "text": [
      "[0. 0. 0. 0.]\n"
     ]
    }
   ],
   "source": [
    "#zeros with 1d array\n",
    "first=np.zeros(4)\n",
    "print(first)\n"
   ]
  },
  {
   "cell_type": "code",
   "execution_count": 8,
   "id": "be256f6a",
   "metadata": {},
   "outputs": [
    {
     "name": "stdout",
     "output_type": "stream",
     "text": [
      "[[0. 0. 0. 0.]\n",
      " [0. 0. 0. 0.]\n",
      " [0. 0. 0. 0.]]\n"
     ]
    }
   ],
   "source": [
    "#zeros with 2d array\n",
    "first1=np.zeros((3,4))\n",
    "print(first1)"
   ]
  },
  {
   "cell_type": "code",
   "execution_count": 12,
   "id": "aaa77731",
   "metadata": {},
   "outputs": [
    {
     "name": "stdout",
     "output_type": "stream",
     "text": [
      "[[[0. 0. 0.]\n",
      "  [0. 0. 0.]\n",
      "  [0. 0. 0.]\n",
      "  [0. 0. 0.]]\n",
      "\n",
      " [[0. 0. 0.]\n",
      "  [0. 0. 0.]\n",
      "  [0. 0. 0.]\n",
      "  [0. 0. 0.]]\n",
      "\n",
      " [[0. 0. 0.]\n",
      "  [0. 0. 0.]\n",
      "  [0. 0. 0.]\n",
      "  [0. 0. 0.]]]\n"
     ]
    }
   ],
   "source": [
    "#zeros with 3d array\n",
    "first2=np.zeros(((3,4,3)))\n",
    "print(first2)"
   ]
  },
  {
   "cell_type": "markdown",
   "id": "374c2da3",
   "metadata": {},
   "source": [
    "ONES"
   ]
  },
  {
   "cell_type": "code",
   "execution_count": 13,
   "id": "6e27a748",
   "metadata": {},
   "outputs": [
    {
     "name": "stdout",
     "output_type": "stream",
     "text": [
      "[1. 1. 1. 1.]\n"
     ]
    }
   ],
   "source": [
    "second=np.ones(4)\n",
    "print(second)"
   ]
  },
  {
   "cell_type": "code",
   "execution_count": 15,
   "id": "9a6ffb58",
   "metadata": {},
   "outputs": [
    {
     "name": "stdout",
     "output_type": "stream",
     "text": [
      "[[1. 1.]\n",
      " [1. 1.]\n",
      " [1. 1.]\n",
      " [1. 1.]\n",
      " [1. 1.]]\n"
     ]
    }
   ],
   "source": [
    "#2d Array With ones\n",
    "second1=np.ones((5,2))\n",
    "print(second1)"
   ]
  },
  {
   "cell_type": "code",
   "execution_count": 16,
   "id": "b72f1886",
   "metadata": {},
   "outputs": [
    {
     "name": "stdout",
     "output_type": "stream",
     "text": [
      "[[[1. 1.]\n",
      "  [1. 1.]]\n",
      "\n",
      " [[1. 1.]\n",
      "  [1. 1.]]\n",
      "\n",
      " [[1. 1.]\n",
      "  [1. 1.]]]\n"
     ]
    }
   ],
   "source": [
    "#3d array with ones\n",
    "second3=np.ones(((3,2,2)))\n",
    "print(second3)"
   ]
  },
  {
   "cell_type": "markdown",
   "id": "f6d57a3a",
   "metadata": {},
   "source": [
    "# Empty Function"
   ]
  },
  {
   "cell_type": "code",
   "execution_count": 17,
   "id": "6c111dc5",
   "metadata": {},
   "outputs": [
    {
     "name": "stdout",
     "output_type": "stream",
     "text": [
      "[0. 0. 0.]\n"
     ]
    }
   ],
   "source": [
    "#1d empty array\n",
    "third=np.empty(3)\n",
    "print(third)"
   ]
  },
  {
   "cell_type": "code",
   "execution_count": 20,
   "id": "2a5049cc",
   "metadata": {},
   "outputs": [
    {
     "name": "stdout",
     "output_type": "stream",
     "text": [
      "[[0. 0. 0.]\n",
      " [0. 0. 0.]]\n"
     ]
    }
   ],
   "source": [
    "#2d empty array\n",
    "third1=np.empty((2,3))\n",
    "print(third1)"
   ]
  },
  {
   "cell_type": "code",
   "execution_count": 25,
   "id": "d660ab4b",
   "metadata": {},
   "outputs": [
    {
     "name": "stdout",
     "output_type": "stream",
     "text": [
      "[[[1. 1.]\n",
      "  [1. 1.]\n",
      "  [1. 1.]]\n",
      "\n",
      " [[1. 1.]\n",
      "  [1. 1.]\n",
      "  [1. 1.]]]\n"
     ]
    }
   ],
   "source": [
    "#3d empty array\n",
    "third2=np.empty((2,3,2))\n",
    "print(third2)"
   ]
  },
  {
   "cell_type": "markdown",
   "id": "0a604e5b",
   "metadata": {},
   "source": [
    "# Range Function"
   ]
  },
  {
   "cell_type": "code",
   "execution_count": 26,
   "id": "8e3be46f",
   "metadata": {},
   "outputs": [
    {
     "name": "stdout",
     "output_type": "stream",
     "text": [
      "[1 2 3 4]\n"
     ]
    }
   ],
   "source": [
    "#1d arange Function Array -\n",
    "fourth=np.arange(1,5)\n",
    "print(fourth)"
   ]
  },
  {
   "cell_type": "code",
   "execution_count": 30,
   "id": "077b9173",
   "metadata": {},
   "outputs": [
    {
     "name": "stdout",
     "output_type": "stream",
     "text": [
      "[0 1 2 3 4 5 6 7 8 9]\n"
     ]
    }
   ],
   "source": [
    "#2d arange Function Array\n",
    "fourth1=np.arange((10))\n",
    "print(fourth1)"
   ]
  },
  {
   "cell_type": "markdown",
   "id": "a96ab318",
   "metadata": {},
   "source": [
    "# ARRAY DIAGONAL"
   ]
  },
  {
   "cell_type": "code",
   "execution_count": 33,
   "id": "4a4db45d",
   "metadata": {},
   "outputs": [
    {
     "name": "stdout",
     "output_type": "stream",
     "text": [
      "[[1. 0. 0. 0.]\n",
      " [0. 1. 0. 0.]\n",
      " [0. 0. 1. 0.]\n",
      " [0. 0. 0. 1.]]\n"
     ]
    }
   ],
   "source": [
    "fifth=np.eye((4))\n",
    "print(fifth)"
   ]
  },
  {
   "cell_type": "code",
   "execution_count": null,
   "id": "c5e812b5",
   "metadata": {},
   "outputs": [],
   "source": []
  },
  {
   "cell_type": "code",
   "execution_count": null,
   "id": "fb6d550f",
   "metadata": {},
   "outputs": [],
   "source": []
  },
  {
   "cell_type": "code",
   "execution_count": null,
   "id": "3b8f9629",
   "metadata": {},
   "outputs": [],
   "source": []
  }
 ],
 "metadata": {
  "kernelspec": {
   "display_name": "Python 3 (ipykernel)",
   "language": "python",
   "name": "python3"
  },
  "language_info": {
   "codemirror_mode": {
    "name": "ipython",
    "version": 3
   },
   "file_extension": ".py",
   "mimetype": "text/x-python",
   "name": "python",
   "nbconvert_exporter": "python",
   "pygments_lexer": "ipython3",
   "version": "3.10.9"
  }
 },
 "nbformat": 4,
 "nbformat_minor": 5
}
