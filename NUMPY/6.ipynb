{
 "cells": [
  {
   "cell_type": "markdown",
   "id": "1d6c91c3",
   "metadata": {},
   "source": [
    "# ARRAY JOIN IN NUMPY"
   ]
  },
  {
   "cell_type": "code",
   "execution_count": null,
   "id": "1c1a6f82",
   "metadata": {},
   "outputs": [],
   "source": [
    "#JOIN FUNCTION-we can join two or more array into the single new array are known as array Join.\n",
    "#              - we are use the concatenate function for join 2 array"
   ]
  },
  {
   "cell_type": "code",
   "execution_count": 4,
   "id": "41b4168a",
   "metadata": {},
   "outputs": [
    {
     "name": "stdout",
     "output_type": "stream",
     "text": [
      "[10 20 30 40 50 60]\n"
     ]
    }
   ],
   "source": [
    "#JOIN 1D ARRAY\n",
    "\n",
    "import numpy as np\n",
    "first=([10,20,30])\n",
    "second=([40,50,60])\n",
    "\n",
    "new_array=np.concatenate((first,second))\n",
    "print(new_array)"
   ]
  },
  {
   "cell_type": "code",
   "execution_count": 9,
   "id": "881bcd1d",
   "metadata": {},
   "outputs": [
    {
     "name": "stdout",
     "output_type": "stream",
     "text": [
      "[[10 20 30]\n",
      " [10 20 30]\n",
      " [70 80 90]\n",
      " [20 30 40]]\n"
     ]
    }
   ],
   "source": [
    "#JOIN 2D ARRAY\n",
    "\n",
    "third=([[10,20,30],[10,20,30]])\n",
    "fourth=([[70,80,90],[20,30,40]])\n",
    "new_result=np.concatenate((third,fourth),axis=0)\n",
    "print(new_result)"
   ]
  },
  {
   "cell_type": "code",
   "execution_count": 8,
   "id": "821581cf",
   "metadata": {},
   "outputs": [
    {
     "name": "stdout",
     "output_type": "stream",
     "text": [
      "[[10 20 30 70 80 90]\n",
      " [10 20 30 20 30 40]]\n"
     ]
    }
   ],
   "source": [
    "third=([[10,20,30],[10,20,30]])\n",
    "fourth=([[70,80,90],[20,30,40]])\n",
    "new_result=np.concatenate((third,fourth),axis=1)\n",
    "print(new_result)"
   ]
  },
  {
   "cell_type": "code",
   "execution_count": 11,
   "id": "5ec7303f",
   "metadata": {},
   "outputs": [
    {
     "name": "stdout",
     "output_type": "stream",
     "text": [
      "[[[ 1  2  3]\n",
      "  [ 4  5  6]\n",
      "  [ 7  8  9]]\n",
      "\n",
      " [[11 12 13]\n",
      "  [14 15 16]\n",
      "  [17 18 19]]]\n"
     ]
    }
   ],
   "source": [
    "#JOIN 3D ARRAY\n",
    "\n",
    "fifth=([[[1,2,3],[4,5,6],[7,8,9]]])\n",
    "sixth=([[[11,12,13],[14,15,16],[17,18,19]]])\n",
    "new_result1=np.concatenate((fifth,sixth),axis=0)\n",
    "print(new_result1)"
   ]
  },
  {
   "cell_type": "code",
   "execution_count": 13,
   "id": "4521350c",
   "metadata": {},
   "outputs": [
    {
     "name": "stdout",
     "output_type": "stream",
     "text": [
      "[[[ 1  2  3]\n",
      "  [ 4  5  6]\n",
      "  [ 7  8  9]\n",
      "  [11 12 13]\n",
      "  [14 15 16]\n",
      "  [17 18 19]]]\n"
     ]
    }
   ],
   "source": [
    "fifth=([[[1,2,3],[4,5,6],[7,8,9]]])\n",
    "sixth=([[[11,12,13],[14,15,16],[17,18,19]]])\n",
    "new_result2=np.concatenate((fifth,sixth),axis=1)\n",
    "print(new_result2)"
   ]
  }
 ],
 "metadata": {
  "kernelspec": {
   "display_name": "Python 3 (ipykernel)",
   "language": "python",
   "name": "python3"
  },
  "language_info": {
   "codemirror_mode": {
    "name": "ipython",
    "version": 3
   },
   "file_extension": ".py",
   "mimetype": "text/x-python",
   "name": "python",
   "nbconvert_exporter": "python",
   "pygments_lexer": "ipython3",
   "version": "3.10.9"
  }
 },
 "nbformat": 4,
 "nbformat_minor": 5
}
