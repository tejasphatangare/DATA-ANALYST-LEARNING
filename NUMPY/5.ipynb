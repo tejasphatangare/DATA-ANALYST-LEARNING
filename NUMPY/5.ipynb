{
 "cells": [
  {
   "cell_type": "markdown",
   "id": "9fbb9b8e",
   "metadata": {},
   "source": [
    "# INDEXING IN NUMPY"
   ]
  },
  {
   "cell_type": "code",
   "execution_count": 30,
   "id": "b06dd3e1",
   "metadata": {},
   "outputs": [
    {
     "name": "stdout",
     "output_type": "stream",
     "text": [
      "30\n",
      "20\n"
     ]
    }
   ],
   "source": [
    "#INDEXING IN 1D ARRAY\n",
    "\n",
    "import numpy as np\n",
    "first=np.array([10,20,30,40,50])\n",
    "print(first[2])\n",
    "print(first[-4])\n",
    "# print(first[30])                  #THIS WILL THROWS ERROR"
   ]
  },
  {
   "cell_type": "code",
   "execution_count": 34,
   "id": "92f27092",
   "metadata": {},
   "outputs": [
    {
     "name": "stdout",
     "output_type": "stream",
     "text": [
      "50\n",
      "30\n"
     ]
    }
   ],
   "source": [
    "#INDEXING IN 2D ARRAY\n",
    "second=np.array([[10,20,30],[40,50,60]])\n",
    "# print(second[1][1])\n",
    "print(second[1,1])\n",
    "print(second[0][2])"
   ]
  },
  {
   "cell_type": "code",
   "execution_count": 39,
   "id": "383b9e53",
   "metadata": {},
   "outputs": [
    {
     "name": "stdout",
     "output_type": "stream",
     "text": [
      "60\n",
      "30\n"
     ]
    }
   ],
   "source": [
    "#INDEXING IN 3D ARRAY\n",
    "\n",
    "third=np.array([[[10,20],[30,40],[50,60]]])\n",
    "\n",
    "print(third[0,2,1])\n",
    "print(third[0,1,0])"
   ]
  },
  {
   "cell_type": "markdown",
   "id": "e4f44792",
   "metadata": {},
   "source": [
    "# SLICING IN NUMPY"
   ]
  },
  {
   "cell_type": "code",
   "execution_count": 43,
   "id": "0954da80",
   "metadata": {},
   "outputs": [
    {
     "name": "stdout",
     "output_type": "stream",
     "text": [
      "[5 6 7]\n",
      "[1 2 3]\n",
      "[4 5 6 7 8 9]\n",
      "[1 3 5 7 9]\n"
     ]
    }
   ],
   "source": [
    "#SLICING IN 1D ARRAY\n",
    "\n",
    "fourth=np.array([1,2,3,4,5,6,7,8,9])\n",
    "print(fourth[4:7])\n",
    "print(fourth[:3])\n",
    "print(fourth[3:])\n",
    "print(fourth[::2])"
   ]
  },
  {
   "cell_type": "code",
   "execution_count": 45,
   "id": "58417bd7",
   "metadata": {},
   "outputs": [
    {
     "name": "stdout",
     "output_type": "stream",
     "text": [
      "50\n",
      "30\n"
     ]
    }
   ],
   "source": [
    "#SLICING IN 2D ARRAY\n",
    "\n",
    "fifth=np.array([[10,20,30],[40,50,60]])\n",
    "print(fifth[1,1])\n",
    "print(fifth[0,2])"
   ]
  },
  {
   "cell_type": "code",
   "execution_count": 49,
   "id": "9ae7b5ea",
   "metadata": {},
   "outputs": [
    {
     "name": "stdout",
     "output_type": "stream",
     "text": [
      "8\n",
      "6\n",
      "1\n"
     ]
    }
   ],
   "source": [
    "#SLICING IN 3D ARRAY\n",
    "sixth=np.array([[[1,2,3],[4,5,6],[7,8,9]]])\n",
    "print(sixth[0,2,1])\n",
    "print(sixth[0,1,2])\n",
    "print(sixth[0,0,0])"
   ]
  }
 ],
 "metadata": {
  "kernelspec": {
   "display_name": "Python 3 (ipykernel)",
   "language": "python",
   "name": "python3"
  },
  "language_info": {
   "codemirror_mode": {
    "name": "ipython",
    "version": 3
   },
   "file_extension": ".py",
   "mimetype": "text/x-python",
   "name": "python",
   "nbconvert_exporter": "python",
   "pygments_lexer": "ipython3",
   "version": "3.10.9"
  }
 },
 "nbformat": 4,
 "nbformat_minor": 5
}
